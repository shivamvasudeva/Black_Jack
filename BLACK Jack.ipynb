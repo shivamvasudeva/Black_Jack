{
 "cells": [
  {
   "cell_type": "markdown",
   "id": "21bfbfd8",
   "metadata": {},
   "source": [
    "# Deck of cards 52 Card:"
   ]
  },
  {
   "cell_type": "code",
   "execution_count": 2,
   "id": "6e661410",
   "metadata": {},
   "outputs": [],
   "source": [
    "import random\n",
    "suits=('Hearts', 'Diamonds', 'Spades', 'Clubs')\n",
    "ranks = ('Two', 'Three', 'Four', 'Five', 'Six', 'Seven', 'Eight', 'Nine', 'Ten', 'Jack', 'Queen', 'King', 'Ace')\n",
    "values = {'Two':2, 'Three':3, 'Four':4, 'Five':5, 'Six':6, 'Seven':7, 'Eight':8, 'Nine':9, 'Ten':10, 'Jack':11,\n",
    "         'Queen':12, 'King':13, 'Ace':11}\n",
    "playing = True"
   ]
  },
  {
   "cell_type": "code",
   "execution_count": 3,
   "id": "68d49c01",
   "metadata": {},
   "outputs": [],
   "source": [
    "# Single Card \n",
    "class Card():\n",
    "    def __init__(self,suit,rank):\n",
    "        self.suit=suit\n",
    "        self.rank=rank\n",
    "        \n",
    "        \n",
    "    def __str__(self):\n",
    "        return self.rank+ \" of \" +self.suit"
   ]
  },
  {
   "cell_type": "code",
   "execution_count": 4,
   "id": "34ee5c50",
   "metadata": {},
   "outputs": [],
   "source": [
    "# Creating 52 of every single card\n",
    "class Deck:\n",
    "    def __init__(self):\n",
    "        self.deck = []\n",
    "        for suit in suits:\n",
    "            for rank in ranks:\n",
    "                # Create a card Object\n",
    "                self.deck.append(Card(suit,rank))\n",
    "                \n",
    "            \n",
    "    def __str__(self):\n",
    "        deck_comp=\"\"\n",
    "        for card in self.deck:\n",
    "            deck_comp+= '\\n'+ card.__str__()\n",
    "        return 'The deck has:'+ deck_comp\n",
    "    \n",
    "    #Shuffle the deck\n",
    "    def shuffle(self):\n",
    "        random.shuffle(self.deck)\n",
    "        \n",
    "    # pop of card object \n",
    "    def deal(self):\n",
    "        single_card = self.deck.pop()\n",
    "        return single_card\n",
    "    \n",
    "        "
   ]
  },
  {
   "cell_type": "markdown",
   "id": "6908c8ba",
   "metadata": {},
   "source": [
    "# Hand and Chip Class"
   ]
  },
  {
   "cell_type": "code",
   "execution_count": 5,
   "id": "27415014",
   "metadata": {},
   "outputs": [],
   "source": [
    "#It is a represation of one player\n",
    "\n",
    "\n",
    "class Hand():\n",
    "    def __init__ (self):\n",
    "        self.cards=[]              #start with empty list\n",
    "        self.value = 0           # start with zero value\n",
    "        self.aces=0               # attribute to keep track of aces\n",
    "        \n",
    "        \n",
    "        \n",
    "        \n",
    "    def add_card(self,card):\n",
    "        # card passed in is grabing it from DEck clas from deal function\n",
    "        #Deck.deal() === single card (suit,rank)\n",
    "        self.cards.append(card)\n",
    "        self.value += values[card.rank]\n",
    "        \n",
    "        #Track Aces\n",
    "        if card.rank == 'Ace':\n",
    "            self.aces +=1\n",
    "        \n",
    "        \n",
    "        \n",
    "        \n",
    "    def adjust_for_ace(self):\n",
    "        #if total value greater than 21 and I still have ace then change my ace to 1 insted of eleven \n",
    "        while self.value >21 and self.aces > 0:\n",
    "            self.value -=10\n",
    "            self.aces-=1"
   ]
  },
  {
   "cell_type": "code",
   "execution_count": 6,
   "id": "6f27be42",
   "metadata": {},
   "outputs": [],
   "source": [
    "class Chips():\n",
    "    \n",
    "    def __init__(self,total=100):\n",
    "        self.total=total\n",
    "        self.bet =0\n",
    "    \n",
    "    def win_bet(self):\n",
    "        self.total +=self.bet\n",
    "    def lose_bet(self):\n",
    "        self.total -=self.bet\n",
    "        "
   ]
  },
  {
   "cell_type": "code",
   "execution_count": 7,
   "id": "cea9ad79",
   "metadata": {},
   "outputs": [
    {
     "ename": "NameError",
     "evalue": "name 'test_player' is not defined",
     "output_type": "error",
     "traceback": [
      "\u001b[0;31m---------------------------------------------------------------------------\u001b[0m",
      "\u001b[0;31mNameError\u001b[0m                                 Traceback (most recent call last)",
      "\u001b[0;32m<ipython-input-7-415071fba0d4>\u001b[0m in \u001b[0;36m<module>\u001b[0;34m\u001b[0m\n\u001b[0;32m----> 1\u001b[0;31m \u001b[0mtest_player\u001b[0m\u001b[0;34m.\u001b[0m\u001b[0madd_card\u001b[0m\u001b[0;34m(\u001b[0m\u001b[0mtest_deck\u001b[0m\u001b[0;34m.\u001b[0m\u001b[0mdeal\u001b[0m\u001b[0;34m(\u001b[0m\u001b[0;34m)\u001b[0m\u001b[0;34m)\u001b[0m\u001b[0;34m\u001b[0m\u001b[0;34m\u001b[0m\u001b[0m\n\u001b[0m",
      "\u001b[0;31mNameError\u001b[0m: name 'test_player' is not defined"
     ]
    }
   ],
   "source": [
    "test_player.add_card(test_deck.deal())"
   ]
  },
  {
   "cell_type": "markdown",
   "id": "0edf6c19",
   "metadata": {},
   "source": [
    "# Taking Bets from Player"
   ]
  },
  {
   "cell_type": "code",
   "execution_count": 8,
   "id": "5fe005d9",
   "metadata": {},
   "outputs": [],
   "source": [
    "def take_bet(chips):\n",
    "    while True:\n",
    "        \n",
    "        try: \n",
    "            chips.bet = int(input(\"Bet your Chips \"))\n",
    "        except:\n",
    "            print(\"Sorry provide a number\")\n",
    "        else:\n",
    "            if chips.bet > chips.total:\n",
    "                print ('Sorry not enough chips! You got: {}'.format(chips.total))\n",
    "            else:\n",
    "                break"
   ]
  },
  {
   "cell_type": "markdown",
   "id": "815e6f04",
   "metadata": {},
   "source": [
    "# Taking Hits"
   ]
  },
  {
   "cell_type": "code",
   "execution_count": 9,
   "id": "22c036f6",
   "metadata": {},
   "outputs": [],
   "source": [
    "def hit (deck,hand):\n",
    "    single_card =deck.deal() #takes one card from the deck\n",
    "    hand.add_card (single_card) #addes the card to the hand\n",
    "    hand.adjust_for_ace()  #check if there is any ace "
   ]
  },
  {
   "cell_type": "markdown",
   "id": "8b779fdc",
   "metadata": {},
   "source": [
    "# Player Hit or stand ?:\n",
    "    hit means the player wants to play and employ the hit fucntion\n",
    "    if \n",
    "    player want to stand:\n",
    "        set playing vriable to false"
   ]
  },
  {
   "cell_type": "code",
   "execution_count": 10,
   "id": "71302616",
   "metadata": {},
   "outputs": [],
   "source": [
    "def hit_or_stand(deck,hand):\n",
    "    global playing # to control the upcoming loop\n",
    "    \n",
    "    while True:\n",
    "        x = input('Hit or Stand? Enter h or s: ')\n",
    "        if x[0].lower()== 'h':\n",
    "            hit (deck,hand)\n",
    "        elif x[0].lower()=='s':\n",
    "            print('Player wants to STAND! Dealer Turn')\n",
    "        else:\n",
    "            print(\"Sorry!! Wrong Input!! Enter h or s\")\n",
    "            continue\n",
    "        break\n",
    "    "
   ]
  },
  {
   "cell_type": "markdown",
   "id": "72c00395",
   "metadata": {},
   "source": [
    "# Display Cards!!!!!!!"
   ]
  },
  {
   "cell_type": "code",
   "execution_count": 11,
   "id": "99defb8a",
   "metadata": {},
   "outputs": [],
   "source": [
    "def dealer_one_player_all_cards(player,dealer):\n",
    "    \n",
    "    # Dealer showing one card\n",
    "    \n",
    "    print(\"\\n Dealer's Hand: \")\n",
    "    print (\"First card Hidden\")\n",
    "    print(dealer.cards[1])\n",
    "    \n",
    "    #Player showing all(2) cards in hand\n",
    "    print(\"\\n Player's Hand \")\n",
    "    for card in player.cards:\n",
    "        print(card)\n",
    "    \n",
    "def show_all_cards(player,dealer):\n",
    "    #show all dealer cards\n",
    "    print(\"\\n Delaer's Hand\")\n",
    "    for card in dealer.cards:\n",
    "        print(card)\n",
    "    print(f'Value of Dealer hand is: {dealer.value}')\n",
    "    #Show all player cards\n",
    "    print(\"\\n Player's Hand\")\n",
    "    for card in player.cards:\n",
    "        print(card)\n",
    "    print(f'Value of Player hand is: {player.value}')\n",
    "    \n",
    "    #calculate value of cards(j+k==20)\n",
    "   \n",
    "    \n",
    "    "
   ]
  },
  {
   "cell_type": "markdown",
   "id": "d67183ae",
   "metadata": {},
   "source": [
    "# Game Senarios"
   ]
  },
  {
   "cell_type": "code",
   "execution_count": 12,
   "id": "0ce5676d",
   "metadata": {},
   "outputs": [],
   "source": [
    "def player_busts(player,dealer,chips):\n",
    "    print (\"Bust Player!!!\")\n",
    "    print (\"Dealer Wins\")\n",
    "    chips.lose_bet()\n",
    "    \n",
    "def player_wins(player,dealer,chips):\n",
    "    print(\"Player\")\n",
    "    print (\"Winner Winner Chicken Dinner!!!\")\n",
    "    chips.win_bet()\n",
    "    \n",
    "def dealer_busts(player,dealer,chips):\n",
    "    print (\"Bust Dealer!!!\")\n",
    "    print (\"Player Wins\")\n",
    "    chips.lose_bet()\n",
    "    \n",
    "def dealer_wins(player,dealer,chips):\n",
    "    print(\"Dealer\")\n",
    "    print (\"Winner Winner Chicken Dinner!!!\")\n",
    "    chips.win_bet()\n",
    "    \n",
    "def push(player,dealer):\n",
    "    print('Its a Tie!! PUSHHHHH')\n"
   ]
  },
  {
   "cell_type": "markdown",
   "id": "673a851a",
   "metadata": {},
   "source": [
    "# Final Code of the entire GAME"
   ]
  },
  {
   "cell_type": "code",
   "execution_count": null,
   "id": "ef22a1a1",
   "metadata": {},
   "outputs": [
    {
     "name": "stdout",
     "output_type": "stream",
     "text": [
      "Welcome to BLACK JACK\n",
      "Bet your Chips \n",
      "Sorry provide a number\n",
      "Bet your Chips \n",
      "Sorry provide a number\n",
      "Bet your Chips \n",
      "Sorry provide a number\n",
      "Bet your Chips \n",
      "Sorry provide a number\n",
      "Bet your Chips \n",
      "Sorry provide a number\n",
      "Bet your Chips \n",
      "Sorry provide a number\n",
      "Bet your Chips \n",
      "Sorry provide a number\n",
      "Bet your Chips \n",
      "Sorry provide a number\n",
      "Bet your Chips \n",
      "Sorry provide a number\n",
      "Bet your Chips \n",
      "Sorry provide a number\n",
      "Bet your Chips \n",
      "Sorry provide a number\n",
      "Bet your Chips \n",
      "Sorry provide a number\n",
      "Bet your Chips \n",
      "Sorry provide a number\n",
      "Bet your Chips \n",
      "Sorry provide a number\n",
      "Bet your Chips \n",
      "Sorry provide a number\n",
      "Bet your Chips \n",
      "Sorry provide a number\n",
      "Bet your Chips \n",
      "Sorry provide a number\n",
      "Bet your Chips 5\n",
      "\n",
      " Dealer's Hand: \n",
      "First card Hidden\n",
      "Seven of Clubs\n",
      "\n",
      " Player's Hand \n",
      "Five of Spades\n",
      "Six of Clubs\n"
     ]
    }
   ],
   "source": [
    "while True:\n",
    "    #Print the opening statement\n",
    "    print (\"Welcome to BLACK JACK\")\n",
    "#Create Shuffle and deal the deck\n",
    "    \n",
    "    ##Create Deck \n",
    "    deck = Deck()\n",
    "    ##shuffle Deck\n",
    "    deck.shuffle()\n",
    "    ##Deal to player\n",
    "    player_hand = Hand()\n",
    "    player_hand.add_card(deck.deal())\n",
    "    player_hand.add_card(deck.deal())\n",
    "    ##Deal to Dealer\n",
    "    dealer_hand = Hand()\n",
    "    dealer_hand.add_card(deck.deal())\n",
    "    dealer_hand.add_card(deck.deal())\n",
    "    \n",
    "#Player's Chips\n",
    "    player_chips = Chips(500)\n",
    "    \n",
    "#Prompt the player for bet\n",
    "    take_bet(player_chips)\n",
    "    \n",
    "#Show cards but keep one from dealer's hand hidden\n",
    "    dealer_one_player_all_cards(player_hand,dealer_hand)\n",
    "    \n",
    "    \n",
    "#from hit or stand function and global variable    \n",
    "    while playing:  \n",
    "        \n",
    "    #Prompt player for hit or stand\n",
    "        hit_or_stand(deck,player_hand)\n",
    "        \n",
    "    #show card but keep one fro dealer's hand hidden\n",
    "        dealer_one_player_all_cards(player_hand,dealer_hand)\n",
    "        \n",
    "    #if player's hand exceen 21, run player_busts() and break out of loop\n",
    "        if player_hand.value >21:\n",
    "            player_busts(player_hand, dealer_hand,player_chips)\n",
    "            break\n",
    "            \n",
    "    #Player is not busted , play dealer' hand until dealer reach 17\n",
    "        if player_hand.value<=21:\n",
    "            while dealer_hand.value <17:\n",
    "                hit(deck,dealer_hand)\n",
    "        \n",
    "    #Show all the cards\n",
    "        show_all_cards(player_hand,dealer_hand)\n",
    "        \n",
    "    #Run Winning/lossing senarios\n",
    "        if dealer_hand.value > 21:\n",
    "            dealer_busts(player_hand,dealer_hand,player_chips)\n",
    "        elif dealer_hand.value > player_hand.value:\n",
    "            dealer_wins(player_hand,dealer_hand,player_chips)\n",
    "        elif dealer_hand.value < player_hand.value:\n",
    "            player_wins(player_hand,dealer_hand,player_chips)\n",
    "        else:\n",
    "            push(player_hand,dealer_hand)\n",
    "            \n",
    "    #Inform player how many chips they have\n",
    "    print(\"\\n Total Chips you have: {}\".format(player_chips.total))\n",
    "    \n",
    "    #Ask to Play again!\n",
    "    \n",
    "    new_game = input(\"Enter 'y' to Continue 'n' to Quit: \")\n",
    "    \n",
    "    if new_game[0].lower() == 'y':\n",
    "        playing = True\n",
    "        continue\n",
    "    else:\n",
    "        print ('Thankyou for Playing')\n",
    "        break"
   ]
  },
  {
   "cell_type": "code",
   "execution_count": null,
   "id": "5dba5994",
   "metadata": {},
   "outputs": [],
   "source": []
  }
 ],
 "metadata": {
  "kernelspec": {
   "display_name": "Python 3",
   "language": "python",
   "name": "python3"
  },
  "language_info": {
   "codemirror_mode": {
    "name": "ipython",
    "version": 3
   },
   "file_extension": ".py",
   "mimetype": "text/x-python",
   "name": "python",
   "nbconvert_exporter": "python",
   "pygments_lexer": "ipython3",
   "version": "3.8.8"
  }
 },
 "nbformat": 4,
 "nbformat_minor": 5
}
